{
 "cells": [
  {
   "cell_type": "code",
   "execution_count": null,
   "metadata": {},
   "outputs": [
    {
     "name": "stdout",
     "output_type": "stream",
     "text": [
      " * Serving Flask app \"__main__\" (lazy loading)\n",
      " * Environment: production\n",
      "\u001b[31m   WARNING: This is a development server. Do not use it in a production deployment.\u001b[0m\n",
      "\u001b[2m   Use a production WSGI server instead.\u001b[0m\n",
      " * Debug mode: off\n"
     ]
    },
    {
     "name": "stderr",
     "output_type": "stream",
     "text": [
      " * Running on http://127.0.0.1:5000/ (Press CTRL+C to quit)\n",
      "127.0.0.1 - - [16/Apr/2021 11:46:33] \"\u001b[37mGET / HTTP/1.1\u001b[0m\" 200 -\n",
      "127.0.0.1 - - [16/Apr/2021 11:46:33] \"\u001b[31m\u001b[1mGET /predict HTTP/1.1\u001b[0m\" 405 -\n",
      "/Users/thomaskim/opt/anaconda3/lib/python3.8/site-packages/seaborn/distributions.py:2551: FutureWarning: `distplot` is a deprecated function and will be removed in a future version. Please adapt your code to use either `displot` (a figure-level function with similar flexibility) or `histplot` (an axes-level function for histograms).\n",
      "  warnings.warn(msg, FutureWarning)\n",
      "/Users/thomaskim/opt/anaconda3/lib/python3.8/site-packages/seaborn/distributions.py:2551: FutureWarning: `distplot` is a deprecated function and will be removed in a future version. Please adapt your code to use either `displot` (a figure-level function with similar flexibility) or `histplot` (an axes-level function for histograms).\n",
      "  warnings.warn(msg, FutureWarning)\n",
      "127.0.0.1 - - [16/Apr/2021 11:52:20] \"\u001b[37mPOST /predict HTTP/1.1\u001b[0m\" 200 -\n"
     ]
    },
    {
     "name": "stdout",
     "output_type": "stream",
     "text": [
      "0.1444\n"
     ]
    },
    {
     "name": "stderr",
     "output_type": "stream",
     "text": [
      "127.0.0.1 - - [16/Apr/2021 12:18:56] \"\u001b[31m\u001b[1mGET /predict HTTP/1.1\u001b[0m\" 405 -\n",
      "/Users/thomaskim/opt/anaconda3/lib/python3.8/site-packages/seaborn/distributions.py:2551: FutureWarning: `distplot` is a deprecated function and will be removed in a future version. Please adapt your code to use either `displot` (a figure-level function with similar flexibility) or `histplot` (an axes-level function for histograms).\n",
      "  warnings.warn(msg, FutureWarning)\n",
      "/Users/thomaskim/opt/anaconda3/lib/python3.8/site-packages/seaborn/distributions.py:2551: FutureWarning: `distplot` is a deprecated function and will be removed in a future version. Please adapt your code to use either `displot` (a figure-level function with similar flexibility) or `histplot` (an axes-level function for histograms).\n",
      "  warnings.warn(msg, FutureWarning)\n",
      "127.0.0.1 - - [16/Apr/2021 12:24:42] \"\u001b[37mPOST /predict HTTP/1.1\u001b[0m\" 200 -\n"
     ]
    },
    {
     "name": "stdout",
     "output_type": "stream",
     "text": [
      "0.14532\n"
     ]
    },
    {
     "name": "stderr",
     "output_type": "stream",
     "text": [
      "127.0.0.1 - - [16/Apr/2021 15:10:51] \"\u001b[37mGET / HTTP/1.1\u001b[0m\" 200 -\n",
      "127.0.0.1 - - [16/Apr/2021 15:10:51] \"\u001b[31m\u001b[1mGET /predict HTTP/1.1\u001b[0m\" 405 -\n"
     ]
    }
   ],
   "source": [
    "import numpy as np\n",
    "from flask import Flask, request, jsonify, render_template,send_file, make_response\n",
    "import pickle\n",
    "from sklearn.utils import shuffle\n",
    "import pandas as pd\n",
    "from matplotlib.backends.backend_agg import FigureCanvasAgg as FigureCanvas\n",
    "from matplotlib.figure import Figure\n",
    "import matplotlib\n",
    "matplotlib.use('Agg')\n",
    "import matplotlib.pyplot as plt\n",
    "import io\n",
    "import seaborn as sns\n",
    "\n",
    "\n",
    "\n",
    "\n",
    "def ROI_total(loans):\n",
    "    weighted_term_og = loans['term_amnt'].sum() / loans['loan_amnt'].sum()\n",
    "    weighted_interest_og = loans['int_amnt'].sum() / loans['loan_amnt'].sum()\n",
    "    charge_off_rate_og = loans['loan_class'].value_counts(normalize=True)\n",
    "    charge_off_amount_og = loans.groupby('loan_class').loan_amnt.sum() #dollar amount of each loan_class\n",
    "    total_CoR_og = charge_off_amount_og[1] / loans['loan_amnt'].sum() #dollar amount of default loans\n",
    "\n",
    "    loans_approved_og = loans.loan_amnt.sum() #total dollar amount of loans \n",
    "    loans_charged_off_og = charge_off_amount_og[1] #total dollar amount of default loans\n",
    "\n",
    "    # And therefore, the RoE:\n",
    "    loans_returned_og = loans_approved_og - loans_charged_off_og #total loan amount paid back\n",
    "    interest_earned_og = loans_returned_og * (weighted_interest_og) / 100 * (weighted_term_og / 12) \n",
    "    interest_paid_og = loans_approved_og * CoF / 100 * (weighted_term_og / 12) #CoF (cost of funds)\n",
    "    profit_og = interest_earned_og - interest_paid_og - loans_charged_off_og\n",
    "    ROI2 = profit_og / loans_approved_og\n",
    "    return ROI2\n",
    "\n",
    "def ROI_model(n):\n",
    "    COF = 3\n",
    "    a, b, c, d, e, f, g = n[0],n[1],n[2],n[3],n[4],n[5],n[6]\n",
    "    loans_test['column'] = y_pred\n",
    "    y_test_paid = loans_test.loc[loans_test['column'].isin([0])]\n",
    "    a_loans = shuffle(y_test_paid.loc[(y_test_paid['sub_grade'] >= 1) & (y_test_paid['sub_grade'] <= 5)])[0:a]\n",
    "    b_loans = shuffle(y_test_paid.loc[(y_test_paid['sub_grade'] >= 6) & (y_test_paid['sub_grade'] <= 10)])[0:b]\n",
    "    c_loans = shuffle(y_test_paid.loc[(y_test_paid['sub_grade'] >= 11) & (y_test_paid['sub_grade'] <= 15)])[0:c]\n",
    "    d_loans = shuffle(y_test_paid.loc[(y_test_paid['sub_grade'] >= 16) & (y_test_paid['sub_grade'] <= 20)])[0:d]\n",
    "    e_loans = shuffle(y_test_paid.loc[(y_test_paid['sub_grade'] >= 21) & (y_test_paid['sub_grade'] <= 25)])[0:e]\n",
    "    f_loans = shuffle(y_test_paid.loc[(y_test_paid['sub_grade'] >= 26) & (y_test_paid['sub_grade'] <= 30)])[0:f]\n",
    "    g_loans = shuffle(y_test_paid.loc[(y_test_paid['sub_grade'] >= 31) & (y_test_paid['sub_grade'] <= 35)])[0:g]\n",
    "    \n",
    "    y_test_paid = pd.concat([a_loans, b_loans, c_loans, d_loans, e_loans, f_loans, g_loans])   \n",
    "    performance = y_test_paid.groupby('loan_class').loan_amnt.sum()\n",
    "    \n",
    "    # CoR is the proportion that was charged off:\n",
    "    loans_approved = performance.sum()\n",
    "    loans_charged_off = performance[1]\n",
    "    CoR = loans_charged_off / loans_approved\n",
    "\n",
    "    saving = loans_test['loan_amnt'].sum() * (total_CoR_test - CoR)\n",
    "\n",
    "    weighted_interest = y_test_paid['int_amnt'].sum() / y_test_paid['loan_amnt'].sum()\n",
    "    weighted_term = y_test_paid['term_amnt'].sum() / y_test_paid['loan_amnt'].sum()\n",
    "\n",
    "    # ROI\n",
    "    loans_returned = loans_approved - loans_charged_off\n",
    "    interest_earned = loans_returned * weighted_interest / 100 * (weighted_term / 12)\n",
    "    interest_paid = loans_approved * CoF / 100 * (weighted_term / 12)\n",
    "    profit = interest_earned - interest_paid - loans_charged_off\n",
    "    ROI = (profit / loans_approved)\n",
    "    \n",
    "    output = round(ROI, 2)\n",
    "    return output\n",
    "\n",
    "def simulation(n):\n",
    "    model_ROI = []\n",
    "    lc_ROI = []\n",
    "\n",
    "    for i in range(1000):\n",
    "        loan_shuffled = shuffle(loans)\n",
    "        l_ROI = ROI_total(loan_shuffled[0:1000])\n",
    "        lc_ROI.append(l_ROI)\n",
    "    \n",
    "        m_ROI = ROI_model(n)\n",
    "        model_ROI.append(m_ROI)\n",
    "    return model_ROI, lc_ROI\n",
    "\n",
    "app = Flask(__name__)\n",
    "loans = pickle.load(open('cleaned_data.pkl', 'rb'))\n",
    "loans_test = pickle.load(open('loans_test.pkl', 'rb'))\n",
    "total_CoR_test = 0.1803\n",
    "CoF = 3\n",
    "y_pred = pickle.load(open('y_pred_xg.pkl', 'rb'))\n",
    "loans = loans\n",
    "\n",
    "@app.route('/')\n",
    "def home():\n",
    "    return render_template('index.html')\n",
    "\n",
    "\n",
    "@app.route('/predict',methods=['POST'])\n",
    "def predict():\n",
    "\n",
    "    n = [int(x) for x in request.form.values()]\n",
    "\n",
    "    output = ROI_model(n)\n",
    "    model_ROI, lc_ROI = simulation(n)\n",
    "    \n",
    "    ROI_df = pd.DataFrame()\n",
    "    ROI_df['model_ROI'] = model_ROI\n",
    "    ROI_df['lc_ROI'] = lc_ROI\n",
    "    \n",
    "    avg_modelROI = round(np.mean(model_ROI),2)\n",
    "    avg_lcROI = round(np.mean(lc_ROI),2)\n",
    "    \n",
    "    fig, ax = plt.subplots(figsize=(14,7))\n",
    "    ax=sns.set(style=\"darkgrid\")\n",
    "    ax = sns.distplot(tuple(ROI_df['model_ROI']), bins = 10)\n",
    "    ax = sns.distplot(tuple(ROI_df['lc_ROI']), bins = 10)\n",
    "    ax.set_xlabel(\"Rate of Return\",fontsize=16)\n",
    "    ax.set_ylabel(\"Frequency\",fontsize=16)\n",
    "    plt.legend(labels=[\"Model ROI: {}\".format(avg_modelROI), 'Benchmark (Lending Club) ROI: {}'.format(avg_lcROI)], fontsize=16)\n",
    "    plt.savefig(fname='ROI_Hist', dpi=150)\n",
    "    \n",
    "    canvas=FigureCanvas(fig)\n",
    "    img = io.BytesIO()\n",
    "    fig.savefig(img)\n",
    "    img.seek(0)\n",
    "    print (np.mean(model_ROI))\n",
    "    return send_file(img, mimetype='image/png')\n",
    "    \n",
    "#     return np.mean(model_ROI)\n",
    "#     return np.mean(lc_ROI)\n",
    "\n",
    "if __name__ == \"__main__\":\n",
    "    app.run(debug=False)\n"
   ]
  },
  {
   "cell_type": "code",
   "execution_count": 12,
   "metadata": {},
   "outputs": [
    {
     "ename": "SystemExit",
     "evalue": "1",
     "output_type": "error",
     "traceback": [
      "\u001b[1;31m---------------------------------------------------------------------------\u001b[0m",
      "\u001b[1;31mSystemExit\u001b[0m                                Traceback (most recent call last)",
      "\u001b[1;32m<ipython-input-9-63f98bb65e8f>\u001b[0m in \u001b[0;36m<module>\u001b[1;34m\u001b[0m\n\u001b[0;32m    127\u001b[0m \u001b[1;33m\u001b[0m\u001b[0m\n\u001b[0;32m    128\u001b[0m \u001b[1;32mif\u001b[0m \u001b[0m__name__\u001b[0m \u001b[1;33m==\u001b[0m \u001b[1;34m\"__main__\"\u001b[0m\u001b[1;33m:\u001b[0m\u001b[1;33m\u001b[0m\u001b[1;33m\u001b[0m\u001b[0m\n\u001b[1;32m--> 129\u001b[1;33m     \u001b[0mapp\u001b[0m\u001b[1;33m.\u001b[0m\u001b[0mrun\u001b[0m\u001b[1;33m(\u001b[0m\u001b[0mdebug\u001b[0m\u001b[1;33m=\u001b[0m\u001b[1;32mTrue\u001b[0m\u001b[1;33m)\u001b[0m\u001b[1;33m\u001b[0m\u001b[1;33m\u001b[0m\u001b[0m\n\u001b[0m",
      "\u001b[1;32m~\\anaconda3\\lib\\site-packages\\flask\\app.py\u001b[0m in \u001b[0;36mrun\u001b[1;34m(self, host, port, debug, load_dotenv, **options)\u001b[0m\n\u001b[0;32m    988\u001b[0m \u001b[1;33m\u001b[0m\u001b[0m\n\u001b[0;32m    989\u001b[0m         \u001b[1;32mtry\u001b[0m\u001b[1;33m:\u001b[0m\u001b[1;33m\u001b[0m\u001b[1;33m\u001b[0m\u001b[0m\n\u001b[1;32m--> 990\u001b[1;33m             \u001b[0mrun_simple\u001b[0m\u001b[1;33m(\u001b[0m\u001b[0mhost\u001b[0m\u001b[1;33m,\u001b[0m \u001b[0mport\u001b[0m\u001b[1;33m,\u001b[0m \u001b[0mself\u001b[0m\u001b[1;33m,\u001b[0m \u001b[1;33m**\u001b[0m\u001b[0moptions\u001b[0m\u001b[1;33m)\u001b[0m\u001b[1;33m\u001b[0m\u001b[1;33m\u001b[0m\u001b[0m\n\u001b[0m\u001b[0;32m    991\u001b[0m         \u001b[1;32mfinally\u001b[0m\u001b[1;33m:\u001b[0m\u001b[1;33m\u001b[0m\u001b[1;33m\u001b[0m\u001b[0m\n\u001b[0;32m    992\u001b[0m             \u001b[1;31m# reset the first request information if the development server\u001b[0m\u001b[1;33m\u001b[0m\u001b[1;33m\u001b[0m\u001b[1;33m\u001b[0m\u001b[0m\n",
      "\u001b[1;32m~\\anaconda3\\lib\\site-packages\\werkzeug\\serving.py\u001b[0m in \u001b[0;36mrun_simple\u001b[1;34m(hostname, port, application, use_reloader, use_debugger, use_evalex, extra_files, reloader_interval, reloader_type, threaded, processes, request_handler, static_files, passthrough_errors, ssl_context)\u001b[0m\n\u001b[0;32m   1048\u001b[0m         \u001b[1;32mfrom\u001b[0m \u001b[1;33m.\u001b[0m\u001b[0m_reloader\u001b[0m \u001b[1;32mimport\u001b[0m \u001b[0mrun_with_reloader\u001b[0m\u001b[1;33m\u001b[0m\u001b[1;33m\u001b[0m\u001b[0m\n\u001b[0;32m   1049\u001b[0m \u001b[1;33m\u001b[0m\u001b[0m\n\u001b[1;32m-> 1050\u001b[1;33m         \u001b[0mrun_with_reloader\u001b[0m\u001b[1;33m(\u001b[0m\u001b[0minner\u001b[0m\u001b[1;33m,\u001b[0m \u001b[0mextra_files\u001b[0m\u001b[1;33m,\u001b[0m \u001b[0mreloader_interval\u001b[0m\u001b[1;33m,\u001b[0m \u001b[0mreloader_type\u001b[0m\u001b[1;33m)\u001b[0m\u001b[1;33m\u001b[0m\u001b[1;33m\u001b[0m\u001b[0m\n\u001b[0m\u001b[0;32m   1051\u001b[0m     \u001b[1;32melse\u001b[0m\u001b[1;33m:\u001b[0m\u001b[1;33m\u001b[0m\u001b[1;33m\u001b[0m\u001b[0m\n\u001b[0;32m   1052\u001b[0m         \u001b[0minner\u001b[0m\u001b[1;33m(\u001b[0m\u001b[1;33m)\u001b[0m\u001b[1;33m\u001b[0m\u001b[1;33m\u001b[0m\u001b[0m\n",
      "\u001b[1;32m~\\anaconda3\\lib\\site-packages\\werkzeug\\_reloader.py\u001b[0m in \u001b[0;36mrun_with_reloader\u001b[1;34m(main_func, extra_files, interval, reloader_type)\u001b[0m\n\u001b[0;32m    337\u001b[0m             \u001b[0mreloader\u001b[0m\u001b[1;33m.\u001b[0m\u001b[0mrun\u001b[0m\u001b[1;33m(\u001b[0m\u001b[1;33m)\u001b[0m\u001b[1;33m\u001b[0m\u001b[1;33m\u001b[0m\u001b[0m\n\u001b[0;32m    338\u001b[0m         \u001b[1;32melse\u001b[0m\u001b[1;33m:\u001b[0m\u001b[1;33m\u001b[0m\u001b[1;33m\u001b[0m\u001b[0m\n\u001b[1;32m--> 339\u001b[1;33m             \u001b[0msys\u001b[0m\u001b[1;33m.\u001b[0m\u001b[0mexit\u001b[0m\u001b[1;33m(\u001b[0m\u001b[0mreloader\u001b[0m\u001b[1;33m.\u001b[0m\u001b[0mrestart_with_reloader\u001b[0m\u001b[1;33m(\u001b[0m\u001b[1;33m)\u001b[0m\u001b[1;33m)\u001b[0m\u001b[1;33m\u001b[0m\u001b[1;33m\u001b[0m\u001b[0m\n\u001b[0m\u001b[0;32m    340\u001b[0m     \u001b[1;32mexcept\u001b[0m \u001b[0mKeyboardInterrupt\u001b[0m\u001b[1;33m:\u001b[0m\u001b[1;33m\u001b[0m\u001b[1;33m\u001b[0m\u001b[0m\n\u001b[0;32m    341\u001b[0m         \u001b[1;32mpass\u001b[0m\u001b[1;33m\u001b[0m\u001b[1;33m\u001b[0m\u001b[0m\n",
      "\u001b[1;31mSystemExit\u001b[0m: 1"
     ]
    }
   ],
   "source": [
    "%tb"
   ]
  },
  {
   "cell_type": "code",
   "execution_count": 51,
   "metadata": {},
   "outputs": [
    {
     "name": "stderr",
     "output_type": "stream",
     "text": [
      "127.0.0.1 - - [08/Apr/2021 01:55:17] \"\u001b[37mGET / HTTP/1.1\u001b[0m\" 200 -\n"
     ]
    }
   ],
   "source": [
    "#     fig, ax = plt.subplots(figsize=(14,7))\n",
    "#     ax=sns.set(style=\"darkgrid\")\n",
    "#     ax = sns.distplot(tuple(ROI_df['model_ROI']))\n",
    "#     ax = sns.distplot(tuple(ROI_df['lc_ROI']))\n",
    "#     ax.set_xlabel(\"Rate of Return\",fontsize=16)\n",
    "#     ax.set_ylabel(\"Frequency\",fontsize=16)\n",
    "#     plt.legend(labels=[\"Model ROI\", 'Benchmark (Lending Club) ROI'], fontsize=16)\n",
    "#     plt.savefig(fname='ROI_Hist', dpi=150)\n",
    "#     canvas=FigureCanvas(fig)\n",
    "#     img = io.BytesIO()\n",
    "#     fig.savefig(img)\n",
    "#     img.seek(0)\n",
    "#     return img\n",
    "\n",
    "#     return render_template('index.html', prediction_text='ROI Prediction is {}'.format(output))\n"
   ]
  },
  {
   "cell_type": "code",
   "execution_count": null,
   "metadata": {},
   "outputs": [],
   "source": [
    "# def mpl():\n",
    "#     return render_template('matplot.html',\n",
    "#                           PageTitle = 'Matplotlib')\n",
    "# @app.route('/plot.png')\n",
    "# def plot_png():\n",
    "#     fig = create_figure()\n",
    "#     output = io.BytesIO()\n",
    "#     FigureCanvas(fig).print_png(output)\n",
    "#     return Response(output.getvalue(), mimetype='image/png')\n",
    "\n",
    "# def create_figure():\n",
    "#     fig, ax = plt.subplots(figsize=(14,7))\n",
    "#     ax=sns.set(style=\"darkgrid\")\n",
    "#     ax = sns.distplot(tuple(ROI_df['model_ROI']))\n",
    "#     ax = sns.distplot(tuple(ROI_df['lc_ROI']))\n",
    "#     ax.set_xlabel(\"Rate of Return\",fontsize=16)\n",
    "#     ax.set_ylabel(\"Frequency\",fontsize=16)\n",
    "#     plt.legend(labels=[\"Model ROI\", 'Benchmark (Lending Club) ROI'], fontsize=16)\n",
    "#     plt.savefig(fname='ROI_Hist', dpi=150)\n",
    "    \n",
    "#     return fig"
   ]
  }
 ],
 "metadata": {
  "kernelspec": {
   "display_name": "Python 3",
   "language": "python",
   "name": "python3"
  },
  "language_info": {
   "codemirror_mode": {
    "name": "ipython",
    "version": 3
   },
   "file_extension": ".py",
   "mimetype": "text/x-python",
   "name": "python",
   "nbconvert_exporter": "python",
   "pygments_lexer": "ipython3",
   "version": "3.8.5"
  }
 },
 "nbformat": 4,
 "nbformat_minor": 4
}
